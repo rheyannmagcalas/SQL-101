{
 "cells": [
  {
   "cell_type": "markdown",
   "metadata": {},
   "source": [
    "#### SQLite is a server-less database and is self-contained. This is also referred to as an embedded database which means the DB engine runs as a part of the app. "
   ]
  },
  {
   "cell_type": "markdown",
   "metadata": {},
   "source": [
    "### Connecting to Database"
   ]
  },
  {
   "cell_type": "code",
   "execution_count": 1,
   "metadata": {},
   "outputs": [],
   "source": [
    "import pandas as pd\n",
    "import sqlite3\n",
    "\n",
    "conn = sqlite3.connect('test.db')\n",
    "conn.close()"
   ]
  },
  {
   "cell_type": "markdown",
   "metadata": {},
   "source": [
    "### Create a Table"
   ]
  },
  {
   "cell_type": "code",
   "execution_count": 2,
   "metadata": {},
   "outputs": [],
   "source": [
    "conn = sqlite3.connect('test.db')\n",
    "\n",
    "conn.execute('''CREATE TABLE FELLOWS\n",
    "         (ID INTEGER PRIMARY KEY AUTOINCREMENT  NOT NULL ,\n",
    "         NAME           CHAR(50)    NOT NULL,\n",
    "         AGE            INT     NOT NULL,\n",
    "         ADDRESS        CHAR(50),\n",
    "         SALARY         DECIMAL);''')\n",
    "\n",
    "conn.close()"
   ]
  },
  {
   "cell_type": "markdown",
   "metadata": {},
   "source": [
    "### Check table if exists"
   ]
  },
  {
   "cell_type": "code",
   "execution_count": null,
   "metadata": {},
   "outputs": [],
   "source": [
    "conn = sqlite3.connect('test.db')\n",
    "\n",
    "conn.execute('''CREATE TABLE IF NOT EXISTS FELLOWS\n",
    "          (ID INTEGER PRIMARY KEY AUTOINCREMENT  NOT NULL ,\n",
    "         NAME           CHAR(50)    NOT NULL,\n",
    "         AGE            INT     NOT NULL,\n",
    "         ADDRESS        CHAR(50),\n",
    "         SALARY         DECIMAL);''')\n",
    "\n",
    "conn.close()"
   ]
  },
  {
   "cell_type": "markdown",
   "metadata": {},
   "source": [
    "### Insert Operation"
   ]
  },
  {
   "cell_type": "code",
   "execution_count": 3,
   "metadata": {},
   "outputs": [],
   "source": [
    "conn = sqlite3.connect('test.db')\n",
    "\n",
    "conn.execute(\"INSERT INTO FELLOWS (NAME,AGE,ADDRESS,SALARY) \\\n",
    "      VALUES ('Dan', 22, 'Korea', 50000.00 )\");\n",
    "\n",
    "conn.execute(\"INSERT INTO FELLOWS (NAME,AGE,ADDRESS,SALARY) \\\n",
    "      VALUES ('Rob', 20, 'United Kingdom', 80000.00 )\");\n",
    "\n",
    "conn.execute(\"INSERT INTO FELLOWS (NAME,AGE,ADDRESS,SALARY) \\\n",
    "      VALUES ('Emer', 20, 'Japan', 80000.00 )\");\n",
    "\n",
    "conn.execute(\"INSERT INTO FELLOWS (NAME,AGE,ADDRESS,SALARY) \\\n",
    "      VALUES ('Franz', 18, 'Australia', 65000.00 )\");\n",
    "\n",
    "conn.execute(\"INSERT INTO FELLOWS (NAME,AGE,ADDRESS,SALARY) \\\n",
    "      VALUES ('Phonso', 20, 'Singapore', 65000.00 )\");\n",
    "\n",
    "conn.commit()\n",
    "conn.close()"
   ]
  },
  {
   "cell_type": "markdown",
   "metadata": {},
   "source": [
    "### Avoiding SQL INJECTION"
   ]
  },
  {
   "cell_type": "code",
   "execution_count": null,
   "metadata": {},
   "outputs": [],
   "source": [
    "conn = sqlite3.connect('test.db')\n",
    "\n",
    "conn.execute(\"insert into FELLOWS(NAME, AGE, ADDRESS, SALARY) values(?, ?, ?, ?)\", ('Ran', '18', 'Philippines', 20000.00))\n",
    "conn.commit()\n",
    "conn.close()"
   ]
  },
  {
   "cell_type": "markdown",
   "metadata": {},
   "source": [
    "### Select All Operation"
   ]
  },
  {
   "cell_type": "code",
   "execution_count": 6,
   "metadata": {},
   "outputs": [
    {
     "name": "stdout",
     "output_type": "stream",
     "text": [
      "ID =  2 Name= Rob Address= United Kingdom Salary= 80000\n",
      "ID =  3 Name= Emer Address= Japan Salary= 80000\n",
      "ID =  4 Name= Franz Address= Australia Salary= 65000\n",
      "ID =  5 Name= Phonso Address= Singapore Salary= 65000\n",
      "ID =  1 Name= Dan Address= Korea Salary= 50000\n"
     ]
    },
    {
     "data": {
      "text/html": [
       "<div>\n",
       "<style scoped>\n",
       "    .dataframe tbody tr th:only-of-type {\n",
       "        vertical-align: middle;\n",
       "    }\n",
       "\n",
       "    .dataframe tbody tr th {\n",
       "        vertical-align: top;\n",
       "    }\n",
       "\n",
       "    .dataframe thead th {\n",
       "        text-align: right;\n",
       "    }\n",
       "</style>\n",
       "<table border=\"1\" class=\"dataframe\">\n",
       "  <thead>\n",
       "    <tr style=\"text-align: right;\">\n",
       "      <th></th>\n",
       "      <th>ID</th>\n",
       "      <th>NAME</th>\n",
       "      <th>ADDRESS</th>\n",
       "      <th>SALARY</th>\n",
       "    </tr>\n",
       "  </thead>\n",
       "  <tbody>\n",
       "    <tr>\n",
       "      <th>0</th>\n",
       "      <td>2</td>\n",
       "      <td>Rob</td>\n",
       "      <td>United Kingdom</td>\n",
       "      <td>80000</td>\n",
       "    </tr>\n",
       "    <tr>\n",
       "      <th>1</th>\n",
       "      <td>3</td>\n",
       "      <td>Emer</td>\n",
       "      <td>Japan</td>\n",
       "      <td>80000</td>\n",
       "    </tr>\n",
       "    <tr>\n",
       "      <th>2</th>\n",
       "      <td>4</td>\n",
       "      <td>Franz</td>\n",
       "      <td>Australia</td>\n",
       "      <td>65000</td>\n",
       "    </tr>\n",
       "    <tr>\n",
       "      <th>3</th>\n",
       "      <td>5</td>\n",
       "      <td>Phonso</td>\n",
       "      <td>Singapore</td>\n",
       "      <td>65000</td>\n",
       "    </tr>\n",
       "    <tr>\n",
       "      <th>4</th>\n",
       "      <td>1</td>\n",
       "      <td>Dan</td>\n",
       "      <td>Korea</td>\n",
       "      <td>50000</td>\n",
       "    </tr>\n",
       "  </tbody>\n",
       "</table>\n",
       "</div>"
      ],
      "text/plain": [
       "   ID    NAME         ADDRESS  SALARY\n",
       "0   2     Rob  United Kingdom   80000\n",
       "1   3    Emer           Japan   80000\n",
       "2   4   Franz       Australia   65000\n",
       "3   5  Phonso       Singapore   65000\n",
       "4   1     Dan           Korea   50000"
      ]
     },
     "execution_count": 6,
     "metadata": {},
     "output_type": "execute_result"
    }
   ],
   "source": [
    "conn = sqlite3.connect('test.db')\n",
    "\n",
    "cursor = conn.execute(\"SELECT id, name, address, salary from FELLOWS order by Salary desc\")\n",
    "\n",
    "result = {}\n",
    "result['ID'] = []\n",
    "result['NAME'] = []\n",
    "result['ADDRESS'] = []\n",
    "result['SALARY'] = []\n",
    "\n",
    "for row in cursor:\n",
    "    print(\"ID = \", row[0], 'Name=', row[1], 'Address=', row[2], 'Salary=', row[3])\n",
    "    result['ID'].append(row[0])\n",
    "    result['NAME'].append(row[1])\n",
    "    result['ADDRESS'].append(row[2])\n",
    "    result['SALARY'].append(row[3])\n",
    "    \n",
    "conn.close()\n",
    "\n",
    "df = pd.DataFrame.from_dict(result)\n",
    "df"
   ]
  },
  {
   "cell_type": "code",
   "execution_count": 7,
   "metadata": {},
   "outputs": [
    {
     "data": {
      "image/png": "[encoded data removed]",
      "text/plain": [
       "<Figure size 432x288 with 1 Axes>"
      ]
     },
     "metadata": {},
     "output_type": "display_data"
    }
   ],
   "source": [
    "import seaborn as sns\n",
    "\n",
    "sns.set_theme(style=\"whitegrid\")\n",
    "\n",
    "ax = sns.barplot(x=df['NAME'], y=df['SALARY'])"
   ]
  },
  {
   "cell_type": "markdown",
   "metadata": {},
   "source": [
    "### DELETE INFORMATION"
   ]
  },
  {
   "cell_type": "code",
   "execution_count": null,
   "metadata": {},
   "outputs": [],
   "source": [
    "conn = sqlite3.connect('test.db')\n",
    "\n",
    "conn.execute(\"DELETE FROM FELLOWS\")\n",
    "conn.commit()\n",
    "conn.close()"
   ]
  },
  {
   "cell_type": "markdown",
   "metadata": {},
   "source": [
    "### Using Where Clause"
   ]
  },
  {
   "cell_type": "code",
   "execution_count": null,
   "metadata": {},
   "outputs": [],
   "source": [
    "conn = sqlite3.connect('test.db')\n",
    "\n",
    "cursor = conn.execute(\"SELECT id, name, address, salary from FELLOWS where name = ?\", ['Dan'])\n",
    "\n",
    "result = {}\n",
    "result['ID'] = []\n",
    "result['NAME'] = []\n",
    "result['ADDRESS'] = []\n",
    "result['SALARY'] = []\n",
    "\n",
    "for row in cursor:\n",
    "    print(\"ID = \", row[0], 'Name=', row[1], 'Address=', row[2], 'Salary=', row[3])\n",
    "    result['ID'].append(row[0])\n",
    "    result['NAME'].append(row[1])\n",
    "    result['ADDRESS'].append(row[2])\n",
    "    result['SALARY'].append(row[3])\n",
    "\n",
    "conn.close()\n",
    "\n",
    "pd.DataFrame.from_dict(result)"
   ]
  },
  {
   "cell_type": "markdown",
   "metadata": {},
   "source": [
    "### Update Operation"
   ]
  },
  {
   "cell_type": "code",
   "execution_count": null,
   "metadata": {},
   "outputs": [],
   "source": [
    "conn = sqlite3.connect('test.db')\n",
    "\n",
    "conn.execute(\"UPDATE FELLOWS set SALARY = 100000.00 where ID = ?\", [1])\n",
    "conn.commit()\n",
    "cursor = conn.execute(\"SELECT id, name, address, salary from FELLOWS\")\n",
    "result = {}\n",
    "result['ID'] = []\n",
    "result['NAME'] = []\n",
    "result['ADDRESS'] = []\n",
    "result['SALARY'] = []\n",
    "\n",
    "for row in cursor:\n",
    "    print(\"ID = \", row[0], 'Name=', row[1], 'Address=', row[2], 'Salary=', row[3])\n",
    "    \n",
    "    result['ID'].append(row[0])\n",
    "    result['NAME'].append(row[1])\n",
    "    result['ADDRESS'].append(row[2])\n",
    "    result['SALARY'].append(row[3])\n",
    "    \n",
    "conn.close()\n",
    "\n",
    "pd.DataFrame.from_dict(result)"
   ]
  },
  {
   "cell_type": "markdown",
   "metadata": {},
   "source": [
    "### DELETE ALL INFORMATION"
   ]
  },
  {
   "cell_type": "code",
   "execution_count": null,
   "metadata": {},
   "outputs": [],
   "source": [
    "conn = sqlite3.connect('test.db')\n",
    "\n",
    "conn.execute(\"DELETE FROM FELLOWS\")\n",
    "conn.commit()\n",
    "conn.close()"
   ]
  },
  {
   "cell_type": "code",
   "execution_count": null,
   "metadata": {},
   "outputs": [],
   "source": [
    "conn = sqlite3.connect('test.db')\n",
    "\n",
    "conn.execute(\"DELETE from COMPANY where ID = 2;\")\n",
    "conn.commit()\n",
    "\n",
    "cursor = conn.execute(\"SELECT id, name, address, salary from COMPANY\")\n",
    "result = {}\n",
    "result['ID'] = []\n",
    "result['NAME'] = []\n",
    "result['ADDRESS'] = []\n",
    "result['SALARY'] = []\n",
    "\n",
    "for row in cursor:\n",
    "    print(\"ID = \", row[0], 'Name=', row[1], 'Address=', row[2], 'Salary=', row[3])\n",
    "    \n",
    "    result['ID'].append(row[0])\n",
    "    result['NAME'].append(row[1])\n",
    "    result['ADDRESS'].append(row[2])\n",
    "    result['SALARY'].append(row[3])\n",
    "    \n",
    "conn.close()\n",
    "\n",
    "pd.DataFrame.from_dict(result)"
   ]
  }
 ],
 "metadata": {
  "kernelspec": {
   "display_name": "Python 3",
   "language": "python",
   "name": "python3"
  },
  "language_info": {
   "codemirror_mode": {
    "name": "ipython",
    "version": 3
   },
   "file_extension": ".py",
   "mimetype": "text/x-python",
   "name": "python",
   "nbconvert_exporter": "python",
   "pygments_lexer": "ipython3",
   "version": "3.8.6"
  }
 },
 "nbformat": 4,
 "nbformat_minor": 4
}
